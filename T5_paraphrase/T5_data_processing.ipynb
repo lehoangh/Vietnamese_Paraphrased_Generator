{
  "nbformat": 4,
  "nbformat_minor": 0,
  "metadata": {
    "colab": {
      "name": "T5_data_processing.ipynb",
      "provenance": [],
      "collapsed_sections": []
    },
    "kernelspec": {
      "name": "python3",
      "display_name": "Python 3"
    },
    "language_info": {
      "name": "python"
    }
  },
  "cells": [
    {
      "cell_type": "code",
      "execution_count": 1,
      "metadata": {
        "id": "51-ZVHI20IQz"
      },
      "outputs": [],
      "source": [
        "import pandas as pd"
      ]
    },
    {
      "cell_type": "code",
      "source": [
        "data = pd.read_csv('/content/drive/MyDrive/VIN_NLP/merge_pair_sentence_dataset/merged_datasets.csv')"
      ],
      "metadata": {
        "id": "NlnyBST60Mm9"
      },
      "execution_count": 3,
      "outputs": []
    },
    {
      "cell_type": "code",
      "source": [
        "data.info()"
      ],
      "metadata": {
        "colab": {
          "base_uri": "https://localhost:8080/"
        },
        "id": "7w0cDCo-0bwy",
        "outputId": "757ae5f7-acb5-43b5-a142-1b5e3b341634"
      },
      "execution_count": 4,
      "outputs": [
        {
          "output_type": "stream",
          "name": "stdout",
          "text": [
            "<class 'pandas.core.frame.DataFrame'>\n",
            "RangeIndex: 6930 entries, 0 to 6929\n",
            "Data columns (total 4 columns):\n",
            " #   Column     Non-Null Count  Dtype \n",
            "---  ------     --------------  ----- \n",
            " 0   id         6930 non-null   int64 \n",
            " 1   sentence1  6930 non-null   object\n",
            " 2   sentence2  6930 non-null   object\n",
            " 3   label      6930 non-null   int64 \n",
            "dtypes: int64(2), object(2)\n",
            "memory usage: 216.7+ KB\n"
          ]
        }
      ]
    },
    {
      "cell_type": "code",
      "source": [
        "split_index_train = int(data.shape[0]/100*70 + 1)\n",
        "split_index_dev = int(split_index_train + (data.shape[0] - split_index)/2)\n",
        "split_index_test = int(split_index_train + (data.shape[0] - split_index))\n"
      ],
      "metadata": {
        "id": "uIIw71ih0mow"
      },
      "execution_count": 20,
      "outputs": []
    },
    {
      "cell_type": "code",
      "source": [
        "train_df = data.iloc[:split_index_train]\n",
        "dev_df = data.iloc[split_index_train:split_index_dev]\n",
        "test_df = data.iloc[split_index_dev:split_index_test]"
      ],
      "metadata": {
        "id": "S4XJmaXY1K2r"
      },
      "execution_count": 21,
      "outputs": []
    },
    {
      "cell_type": "code",
      "source": [
        "print(train_df.shape)\n",
        "print(dev_df.shape)\n",
        "print(test_df.shape)"
      ],
      "metadata": {
        "colab": {
          "base_uri": "https://localhost:8080/"
        },
        "id": "epPzxwm51az8",
        "outputId": "179dce21-b959-4e8a-d0f6-5d3d2d48a585"
      },
      "execution_count": 22,
      "outputs": [
        {
          "output_type": "stream",
          "name": "stdout",
          "text": [
            "(4852, 4)\n",
            "(1039, 4)\n",
            "(1039, 4)\n"
          ]
        }
      ]
    },
    {
      "cell_type": "code",
      "source": [
        "train_df.to_csv('/content/drive/MyDrive/VIN_NLP/merge_pair_sentence_dataset/train.csv', index = False)\n",
        "dev_df.to_csv('/content/drive/MyDrive/VIN_NLP/merge_pair_sentence_dataset/dev.csv', index = False)\n",
        "test_df.to_csv('/content/drive/MyDrive/VIN_NLP/merge_pair_sentence_dataset/test.csv', index = False)"
      ],
      "metadata": {
        "id": "34mbjKcF1q8X"
      },
      "execution_count": 23,
      "outputs": []
    }
  ]
}