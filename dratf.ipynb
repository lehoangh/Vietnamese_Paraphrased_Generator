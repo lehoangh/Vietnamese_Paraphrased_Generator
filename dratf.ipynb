{
 "cells": [
  {
   "cell_type": "code",
   "execution_count": 8,
   "metadata": {},
   "outputs": [],
   "source": [
    "import streamlit as st\n",
    "from plagiarism_detector.check_with_search_engine import double_check, check_1, check_2\n",
    "import nltk\n",
    "import re"
   ]
  },
  {
   "cell_type": "code",
   "execution_count": 13,
   "metadata": {},
   "outputs": [
    {
     "data": {
      "text/plain": [
       "'!\"#$%&\\'()*+,-./:;<=>?@[\\\\]^_`{|}~'"
      ]
     },
     "execution_count": 13,
     "metadata": {},
     "output_type": "execute_result"
    }
   ],
   "source": [
    "import string\n",
    "string.punctuation"
   ]
  },
  {
   "cell_type": "code",
   "execution_count": null,
   "metadata": {},
   "outputs": [],
   "source": []
  },
  {
   "cell_type": "code",
   "execution_count": 19,
   "metadata": {},
   "outputs": [
    {
     "name": "stdout",
     "output_type": "stream",
     "text": [
      "Các tuyển thủ Việt Nam vui vẻ chụp ảnh lưu niệm cùng trợ lý Vũ Hồng Việt sau buổi tập.\n",
      "Mình là Vũ Hồng Quang, lớp phó siêu đẹp trai.\n",
      "Thầy trò HLV Park được một nhà tài trợ treo thưởng 100.000 USD, nếu vào chung kết\n"
     ]
    },
    {
     "data": {
      "text/plain": [
       "['Các tuyển thủ Việt Nam vui vẻ chụp ảnh lưu niệm cùng trợ lý Vũ Hồng Việt sau buổi tập.',\n",
       " 'Mình là Vũ Hồng Quang, lớp phó siêu đẹp trai.',\n",
       " 'Thầy trò HLV Park được một nhà tài trợ treo thưởng 100.000 USD, nếu vào chung kết']"
      ]
     },
     "execution_count": 19,
     "metadata": {},
     "output_type": "execute_result"
    }
   ],
   "source": [
    "a= re.sub(r'[\\n]+', '\\n', paraph)\n",
    "print(a)\n",
    "regex = r'[[\\n].?[...]]'\n",
    "nltk.sent_tokenize(a)\n"
   ]
  },
  {
   "cell_type": "code",
   "execution_count": 17,
   "metadata": {},
   "outputs": [
    {
     "name": "stdout",
     "output_type": "stream",
     "text": [
      "1.0\n",
      "0.32\n",
      "0.16666666666666666\n",
      "0.4\n",
      "0.9583333333333334\n",
      "https://www.bing.com/search?q=M%C3%ACnh%20l%C3%A0%20V%C5%A9%20H%E1%BB%93ng%20Quang%2C%20l%E1%BB%9Bp%20ph%C3%B3%20si%C3%AAu%20%C4%91%E1%BA%B9p%20trai.\n"
     ]
    },
    {
     "name": "stderr",
     "output_type": "stream",
     "text": [
      "C:\\Users\\quangvh3\\Miniconda3\\envs\\myenv\\lib\\site-packages\\urllib3\\connectionpool.py:1020: InsecureRequestWarning: Unverified HTTPS request is being made to host 'www.bing.com'. Adding certificate verification is strongly advised. See: https://urllib3.readthedocs.io/en/1.26.x/advanced-usage.html#ssl-warnings\n",
      "  InsecureRequestWarning,\n"
     ]
    },
    {
     "name": "stdout",
     "output_type": "stream",
     "text": [
      "% match bold: 0.1\n",
      "% result match: 1.0\n",
      "% similarity: 0.726564491366863\n",
      "---------------\n",
      "% match bold: 0.0\n",
      "% result match: 0.3333333333333333\n",
      "% similarity: 0.7640488979729335\n",
      "---------------\n",
      "% match bold: 0.2\n",
      "% result match: 1.0\n",
      "% similarity: 0.7712959307031385\n",
      "---------------\n",
      "% match bold: 0.0\n",
      "% result match: 1.0\n",
      "% similarity: 0.7941736213339927\n",
      "---------------\n",
      "% match bold: 0.2\n",
      "% result match: 1.0\n",
      "% similarity: 0.782549601870642\n",
      "---------------\n",
      "% match bold: 0.2\n",
      "% result match: 1.0\n",
      "% similarity: 0.7646769261539293\n",
      "---------------\n",
      "% match bold: 0.2\n",
      "% result match: 1.0\n",
      "% similarity: 0.8139068716173455\n",
      "---------------\n",
      "% match bold: 0.3\n",
      "% result match: 0.6666666666666666\n",
      "% similarity: 0.7749625059832174\n",
      "---------------\n",
      "% match bold: 0.0\n",
      "% result match: 1.0\n",
      "% similarity: 0.7358347579491481\n",
      "---------------\n",
      "% match bold: 0.2\n",
      "% result match: 1.0\n",
      "% similarity: 0.7577392560469471\n",
      "---------------\n"
     ]
    },
    {
     "name": "stderr",
     "output_type": "stream",
     "text": [
      "C:\\Users\\quangvh3\\Miniconda3\\envs\\myenv\\lib\\site-packages\\urllib3\\connectionpool.py:1020: InsecureRequestWarning: Unverified HTTPS request is being made to host 'www.google.com'. Adding certificate verification is strongly advised. See: https://urllib3.readthedocs.io/en/1.26.x/advanced-usage.html#ssl-warnings\n",
      "  InsecureRequestWarning,\n"
     ]
    },
    {
     "name": "stdout",
     "output_type": "stream",
     "text": [
      "% match bold: 0.2\n",
      "% result match: 1.0\n",
      "% similarity: 0.7624753719099985\n",
      "---------------\n",
      "% match bold: 0.4\n",
      "% result match: 1.0\n",
      "% similarity: 0.819814746325838\n",
      "---------------\n",
      "skipping search result\n",
      "% match bold: 0.2\n",
      "% result match: 1.0\n",
      "% similarity: 0.7438787889946497\n",
      "---------------\n",
      "% match bold: 0.3\n",
      "% result match: 1.0\n",
      "% similarity: 0.6623302249663209\n",
      "---------------\n",
      "% match bold: 0.5\n",
      "% result match: 1.0\n",
      "% similarity: 0.7542964539448733\n",
      "---------------\n",
      "% match bold: 0.8\n",
      "% result match: 1.0\n",
      "% similarity: 0.8173547786910497\n",
      "---------------\n",
      "% match bold: 0.1\n",
      "% result match: 1.0\n",
      "% similarity: 0.7336497355299646\n",
      "---------------\n",
      "% match bold: 0.1\n",
      "% result match: 1.0\n",
      "% similarity: 0.7205773309859321\n",
      "---------------\n",
      "% match bold: 0.1\n",
      "% result match: 1.0\n",
      "% similarity: 0.7457245768500119\n",
      "---------------\n",
      "skipping search result\n"
     ]
    },
    {
     "data": {
      "text/plain": [
       "[('Các tuyển thủ Việt Nam vui vẻ chụp ảnh lưu niệm cùng trợ lý Vũ Hồng Việt sau buổi tập.',\n",
       "  True),\n",
       " ('Mình là Vũ Hồng Quang, lớp phó siêu đẹp trai.', True),\n",
       " ('Thầy trò HLV Park được một nhà tài trợ treo thưởng 100.000 USD, nếu vào chung kết',\n",
       "  True)]"
      ]
     },
     "execution_count": 17,
     "metadata": {},
     "output_type": "execute_result"
    }
   ],
   "source": [
    "src = \"\"\"Các tuyển thủ Việt Nam vui vẻ chụp ảnh lưu niệm cùng trợ lý Vũ Hồng Việt sau buổi tập.\n",
    "\n",
    "Thầy trò HLV Park được một nhà tài trợ treo thưởng 100.000 USD, nếu vào chung kết.\"\"\"\n",
    "paraph = \"\"\"Các tuyển thủ Việt Nam vui vẻ chụp ảnh lưu niệm cùng trợ lý Vũ Hồng Việt sau buổi tập.\n",
    "Mình là Vũ Hồng Quang, lớp phó siêu đẹp trai.\n",
    "Thầy trò HLV Park được một nhà tài trợ treo thưởng 100.000 USD, nếu vào chung kết\"\"\"\n",
    "\n",
    "double_check(src, paraph)\n",
    "# check_2(paraph)"
   ]
  },
  {
   "cell_type": "code",
   "execution_count": 3,
   "metadata": {},
   "outputs": [
    {
     "name": "stdout",
     "output_type": "stream",
     "text": [
      "https://www.bing.com/search?q=C%C3%A1c%20tuy%E1%BB%83n%20th%E1%BB%A7%20Vi%E1%BB%87t%20Nam%20vui%20v%E1%BA%BB%20ch%E1%BB%A5p%20%E1%BA%A3nh%20l%C6%B0u%20ni%E1%BB%87m%20c%C3%B9ng%20tr%E1%BB%A3%20l%C3%BD%20V%C5%A9%20H%E1%BB%93ng%20Vi%E1%BB%87t%20sau%20bu%E1%BB%95i%20t%E1%BA%ADp.\n"
     ]
    },
    {
     "name": "stderr",
     "output_type": "stream",
     "text": [
      "C:\\Users\\quangvh3\\Miniconda3\\envs\\myenv\\lib\\site-packages\\urllib3\\connectionpool.py:1020: InsecureRequestWarning: Unverified HTTPS request is being made to host 'www.bing.com'. Adding certificate verification is strongly advised. See: https://urllib3.readthedocs.io/en/1.26.x/advanced-usage.html#ssl-warnings\n",
      "  InsecureRequestWarning,\n"
     ]
    },
    {
     "name": "stdout",
     "output_type": "stream",
     "text": [
      "% match bold: 0.2631578947368421\n",
      "% result match: 1.0\n",
      "% similarity: 0.7985142106909549\n",
      "---------------\n",
      "% match bold: 0.3157894736842105\n",
      "% result match: 0.875\n",
      "% similarity: 0.8019083788314898\n",
      "---------------\n",
      "% match bold: 0.5263157894736842\n",
      "% result match: 0.8333333333333334\n",
      "% similarity: 0.8622514116929452\n",
      "---------------\n",
      "% match bold: 0.5263157894736842\n",
      "% result match: 1.0\n",
      "% similarity: 0.8296205723623759\n",
      "---------------\n",
      "% match bold: 0.2631578947368421\n",
      "% result match: 0.6666666666666666\n",
      "% similarity: 0.7885119398844774\n",
      "---------------\n",
      "% match bold: 0.47368421052631576\n",
      "% result match: 0.8888888888888888\n",
      "% similarity: 0.8038735473663655\n",
      "---------------\n",
      "% match bold: 0.2631578947368421\n",
      "% result match: 0.8333333333333334\n",
      "% similarity: 0.8041417712818612\n",
      "---------------\n",
      "% match bold: 0.3157894736842105\n",
      "% result match: 1.0\n",
      "% similarity: 0.7941733314587505\n",
      "---------------\n",
      "% match bold: 0.05263157894736842\n",
      "% result match: 1.0\n",
      "% similarity: 0.7780535079271466\n",
      "---------------\n",
      "% match bold: 0.05263157894736842\n",
      "% result match: 1.0\n",
      "% similarity: 0.7587713933969744\n",
      "---------------\n"
     ]
    },
    {
     "name": "stderr",
     "output_type": "stream",
     "text": [
      "C:\\Users\\quangvh3\\Miniconda3\\envs\\myenv\\lib\\site-packages\\urllib3\\connectionpool.py:1020: InsecureRequestWarning: Unverified HTTPS request is being made to host 'www.google.com'. Adding certificate verification is strongly advised. See: https://urllib3.readthedocs.io/en/1.26.x/advanced-usage.html#ssl-warnings\n",
      "  InsecureRequestWarning,\n"
     ]
    },
    {
     "name": "stdout",
     "output_type": "stream",
     "text": [
      "% match bold: 1.0\n",
      "% result match: 1.0\n",
      "% similarity: 0.8965475206477327\n",
      "---------------\n",
      "% match bold: 1.0\n",
      "% result match: 1.0\n",
      "% similarity: 0.8972128432882349\n",
      "---------------\n",
      "% match bold: 0.3157894736842105\n",
      "% result match: 1.0\n",
      "% similarity: 0.7620694411046571\n",
      "---------------\n",
      "% match bold: 0.47368421052631576\n",
      "% result match: 1.0\n",
      "% similarity: 0.828762660316553\n",
      "---------------\n",
      "% match bold: 0.15789473684210525\n",
      "% result match: 1.0\n",
      "% similarity: 0.7491269919443682\n",
      "---------------\n",
      "% match bold: 0.3684210526315789\n",
      "% result match: 1.0\n",
      "% similarity: 0.8762760868651291\n",
      "---------------\n",
      "% match bold: 0.15789473684210525\n",
      "% result match: 1.0\n",
      "% similarity: 0.6962062282182793\n",
      "---------------\n",
      "% match bold: 0.3684210526315789\n",
      "% result match: 1.0\n",
      "% similarity: 0.8718013137205295\n",
      "---------------\n",
      "% match bold: 0.10526315789473684\n",
      "% result match: 1.0\n",
      "% similarity: 0.6764619354137994\n",
      "---------------\n",
      "% match bold: 0.3684210526315789\n",
      "% result match: 1.0\n",
      "% similarity: 0.8530078945530398\n",
      "---------------\n",
      "skipping search result\n",
      "https://www.bing.com/search?q=Tha%CC%82%CC%80y%20tro%CC%80%20HLV%20Park%20%C4%91%C6%B0%E1%BB%A3c%20m%E1%BB%99t%20nh%C3%A0%20t%C3%A0i%20tr%E1%BB%A3%20treo%20th%C6%B0%E1%BB%9Fng%20100.000%20USD%2C%20ne%CC%82%CC%81u%20v%C3%A0o%20chung%20k%E1%BA%BFt.\n"
     ]
    },
    {
     "name": "stderr",
     "output_type": "stream",
     "text": [
      "C:\\Users\\quangvh3\\Miniconda3\\envs\\myenv\\lib\\site-packages\\urllib3\\connectionpool.py:1020: InsecureRequestWarning: Unverified HTTPS request is being made to host 'www.bing.com'. Adding certificate verification is strongly advised. See: https://urllib3.readthedocs.io/en/1.26.x/advanced-usage.html#ssl-warnings\n",
      "  InsecureRequestWarning,\n",
      "C:\\Users\\quangvh3\\Miniconda3\\envs\\myenv\\lib\\site-packages\\urllib3\\connectionpool.py:1020: InsecureRequestWarning: Unverified HTTPS request is being made to host 'www.google.com'. Adding certificate verification is strongly advised. See: https://urllib3.readthedocs.io/en/1.26.x/advanced-usage.html#ssl-warnings\n",
      "  InsecureRequestWarning,\n"
     ]
    },
    {
     "name": "stdout",
     "output_type": "stream",
     "text": [
      "% match bold: 0.35294117647058826\n",
      "% result match: 1.0\n",
      "% similarity: 0.8792564182777255\n",
      "---------------\n",
      "% match bold: 0.4117647058823529\n",
      "% result match: 1.0\n",
      "% similarity: 0.9048628506886313\n",
      "---------------\n",
      "% match bold: 0.17647058823529413\n",
      "% result match: 1.0\n",
      "% similarity: 0.8242483750504916\n",
      "---------------\n",
      "% match bold: 0.4117647058823529\n",
      "% result match: 1.0\n",
      "% similarity: 0.8750854225540748\n",
      "---------------\n",
      "% match bold: 0.35294117647058826\n",
      "% result match: 1.0\n",
      "% similarity: 0.8664773124846958\n",
      "---------------\n",
      "% match bold: 0.29411764705882354\n",
      "% result match: 1.0\n",
      "% similarity: 0.8963776887824412\n",
      "---------------\n",
      "% match bold: 0.11764705882352941\n",
      "% result match: 1.0\n",
      "% similarity: 0.8326270149426014\n",
      "---------------\n",
      "% match bold: 0.29411764705882354\n",
      "% result match: 1.0\n",
      "% similarity: 0.866707196645171\n",
      "---------------\n",
      "% match bold: 0.058823529411764705\n",
      "% result match: 1.0\n",
      "% similarity: 0.8304538442963064\n",
      "---------------\n",
      "% match bold: 0.35294117647058826\n",
      "% result match: 1.0\n",
      "% similarity: 0.8776308971554312\n",
      "---------------\n"
     ]
    },
    {
     "data": {
      "text/plain": [
       "[('Các tuyển thủ Việt Nam vui vẻ chụp ảnh lưu niệm cùng trợ lý Vũ Hồng Việt sau buổi tập.',\n",
       "  True),\n",
       " ('Thầy trò HLV Park được một nhà tài trợ treo thưởng 100.000 USD, nếu vào chung kết.',\n",
       "  False)]"
      ]
     },
     "execution_count": 3,
     "metadata": {},
     "output_type": "execute_result"
    }
   ],
   "source": [
    "src = None\n",
    "paraph = \"\"\"Các tuyển thủ Việt Nam vui vẻ chụp ảnh lưu niệm cùng trợ lý Vũ Hồng Việt sau buổi tập.\n",
    "\n",
    "Thầy trò HLV Park được một nhà tài trợ treo thưởng 100.000 USD, nếu vào chung kết.\"\"\"\n",
    "\n",
    "double_check(src, paraph)\n",
    "# check_2(paraph)"
   ]
  },
  {
   "cell_type": "code",
   "execution_count": null,
   "metadata": {},
   "outputs": [],
   "source": []
  }
 ],
 "metadata": {
  "interpreter": {
   "hash": "e9e1eb227d2487a64e619dcbb4ae2cf06a3189565f1ff72ffbc8b8c2fc6eef07"
  },
  "kernelspec": {
   "display_name": "Python 3.6.13 64-bit ('myenv': conda)",
   "language": "python",
   "name": "python3"
  },
  "language_info": {
   "codemirror_mode": {
    "name": "ipython",
    "version": 3
   },
   "file_extension": ".py",
   "mimetype": "text/x-python",
   "name": "python",
   "nbconvert_exporter": "python",
   "pygments_lexer": "ipython3",
   "version": "3.6.13"
  },
  "orig_nbformat": 4
 },
 "nbformat": 4,
 "nbformat_minor": 2
}
