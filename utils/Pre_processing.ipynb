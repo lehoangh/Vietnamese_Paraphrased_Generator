{
  "nbformat": 4,
  "nbformat_minor": 0,
  "metadata": {
    "colab": {
      "name": "Pre-processing.ipynb",
      "provenance": [],
      "collapsed_sections": []
    },
    "kernelspec": {
      "name": "python3",
      "display_name": "Python 3"
    },
    "language_info": {
      "name": "python"
    }
  },
  "cells": [
    {
      "cell_type": "markdown",
      "source": [
        "# Install libs"
      ],
      "metadata": {
        "id": "PWa-O0Fbq-Jf"
      }
    },
    {
      "cell_type": "code",
      "source": [
        "!pip install pyvi\n",
        "!pip install https://gitlab.com/trungtv/vi_spacy/-/raw/master/vi_core_news_lg/dist/vi_core_news_lg-0.0.1.tar.gz"
      ],
      "metadata": {
        "id": "wQcLaApVq6SF"
      },
      "execution_count": null,
      "outputs": []
    },
    {
      "cell_type": "code",
      "execution_count": null,
      "metadata": {
        "id": "BjADxJwTq2Ft"
      },
      "outputs": [],
      "source": [
        "from pyvi import ViTokenizer\n",
        "\n",
        "'''\n",
        "tokenization code\n",
        "'''\n",
        "\n",
        "import spacy\n",
        "spacy_vi = spacy.load('vi_core_news_lg')\n",
        "stopwords = spacy_vi.Defaults.stop_words\n",
        "\n",
        "def tokenize_vi(text):\n",
        "    \"\"\"\n",
        "    Tokenizes Vietnamese text from a string into a list of strings (tokens)\n",
        "    \"\"\"\n",
        "    return [tok.text for tok in spacy_vi.tokenizer(text)]\n",
        "\n",
        "#Xử lý các từ lặp\n",
        "def remove(txt):\n",
        "    txt = re.sub(r'([A-Z])\\1+', lambda m: m.group(1).upper(), str(txt), flags=re.IGNORECASE)\n",
        "    return txt\n",
        "\n",
        "def A_cvt_a(txt):\n",
        "    return txt.lower()\n",
        "\n",
        "# def utils_data(txt):\n",
        "#     pat = re.compile(r\"\\b(%s)\\b\" % \"|\".join(acronyms))\n",
        "#     txt = pat.sub(lambda m: acronyms.get(m.group()), txt)\n",
        "#     return txt\n",
        "\n",
        "#Xử lý các từ dừng\n",
        "def remove_stopwords1(txt):\n",
        "    txt = ViTokenizer.tokenize(txt)\n",
        "    split_words = []\n",
        "    words = []\n",
        "    try:\n",
        "        split_words = [x.strip('0123456789%@$.,=+-!;/()*\"&^:#|\\n\\t\\'').lower() for x in txt.split()]\n",
        "    except:\n",
        "        pass\n",
        "    for w in split_words:\n",
        "        if w not in stopwords:\n",
        "            words.append(w)\n",
        "    return \" \".join(words)\n",
        "\n",
        "#Xử lý các từ dừng\n",
        "def remove_stopwords(txt):\n",
        "    split_words = txt.split()\n",
        "    final_txt = []\n",
        "    for ch in split_words:\n",
        "        if ch not in stopwords:\n",
        "            final_txt.append(ch)\n",
        "    return \" \".join(final_txt)\n",
        "\n",
        "#Xử lý dấu câu\n",
        "def remove_punctuations(txt):\n",
        "    punctuations = '@#!?+&*[]-%:/();$=><|{}^_' + \"'`\"\n",
        "    for p in punctuations:\n",
        "        txt = txt.replace(p, f' {p} ')\n",
        "    return txt\n",
        "\n",
        "def preProcess(txt):\n",
        "    txt = remove(txt)\n",
        "    txt = A_cvt_a(txt)\n",
        "    # txt = utils_data(txt)\n",
        "    #Xóa các kí tự xuống dòng\n",
        "    txt = \" \".join(re.sub(\"\\n\", \" \", txt).split())\n",
        "    #Xử lý dấu câu\n",
        "    txt = remove_punctuations(txt)\n",
        "    # #Tách từ\n",
        "    txt = \" \".join(tokenize_vi(txt))\n",
        "    # #Xóa từ dừng\n",
        "    txt = remove_stopwords(txt)\n",
        "    # txt = remove_stopwords1(txt)\n",
        "    return txt"
      ]
    },
    {
      "cell_type": "code",
      "source": [
        "# Merge all translated files data from PAWS dataset"
      ],
      "metadata": {
        "id": "V4tGErxMJUF9"
      },
      "execution_count": null,
      "outputs": []
    },
    {
      "cell_type": "code",
      "source": [
        "import pandas as pd\n",
        "import os"
      ],
      "metadata": {
        "id": "32i_NuDlJXRw"
      },
      "execution_count": null,
      "outputs": []
    },
    {
      "cell_type": "code",
      "source": [
        "from google.colab import drive\n",
        "drive.mount('/content/drive')"
      ],
      "metadata": {
        "colab": {
          "base_uri": "https://localhost:8080/"
        },
        "id": "iJ1y_sAVJbRD",
        "outputId": "f02666f2-1f97-413e-c6ce-038d64aab73b"
      },
      "execution_count": null,
      "outputs": [
        {
          "output_type": "stream",
          "name": "stdout",
          "text": [
            "Drive already mounted at /content/drive; to attempt to forcibly remount, call drive.mount(\"/content/drive\", force_remount=True).\n"
          ]
        }
      ]
    },
    {
      "cell_type": "code",
      "source": [
        "os.chdir('/content/drive/MyDrive/VIN_NLP/ThanhQuang_NLP')"
      ],
      "metadata": {
        "id": "9Gh-n2AjJcIo"
      },
      "execution_count": null,
      "outputs": []
    },
    {
      "cell_type": "code",
      "source": [
        "data_0_25k = pd.read_csv('paws_trans_0_25000.csv')"
      ],
      "metadata": {
        "id": "S2oJAYK0JqeM"
      },
      "execution_count": null,
      "outputs": []
    },
    {
      "cell_type": "code",
      "source": [
        "data_0_25k"
      ],
      "metadata": {
        "colab": {
          "base_uri": "https://localhost:8080/",
          "height": 641
        },
        "id": "gdnuAFHOJrLt",
        "outputId": "923d5da2-36aa-442c-85d5-59626ba89e95"
      },
      "execution_count": null,
      "outputs": [
        {
          "output_type": "execute_result",
          "data": {
            "text/html": [
              "\n",
              "  <div id=\"df-f3ef3ba8-f049-4471-b937-8348fb45e8d5\">\n",
              "    <div class=\"colab-df-container\">\n",
              "      <div>\n",
              "<style scoped>\n",
              "    .dataframe tbody tr th:only-of-type {\n",
              "        vertical-align: middle;\n",
              "    }\n",
              "\n",
              "    .dataframe tbody tr th {\n",
              "        vertical-align: top;\n",
              "    }\n",
              "\n",
              "    .dataframe thead th {\n",
              "        text-align: right;\n",
              "    }\n",
              "</style>\n",
              "<table border=\"1\" class=\"dataframe\">\n",
              "  <thead>\n",
              "    <tr style=\"text-align: right;\">\n",
              "      <th></th>\n",
              "      <th>index</th>\n",
              "      <th>sentence1</th>\n",
              "      <th>sentence2</th>\n",
              "    </tr>\n",
              "  </thead>\n",
              "  <tbody>\n",
              "    <tr>\n",
              "      <th>0</th>\n",
              "      <td>NaN</td>\n",
              "      <td>Tại Paris, vào tháng 10 năm 1560, ông bí mật g...</td>\n",
              "      <td>Vào tháng 10 năm 1560, ông bí mật gặp đại sứ A...</td>\n",
              "    </tr>\n",
              "    <tr>\n",
              "      <th>1</th>\n",
              "      <td>3.0</td>\n",
              "      <td>Ngoài ra còn có các cuộc thảo luận cụ thể, các...</td>\n",
              "      <td>Ngoài ra còn có các cuộc thảo luận công khai, ...</td>\n",
              "    </tr>\n",
              "    <tr>\n",
              "      <th>2</th>\n",
              "      <td>7.0</td>\n",
              "      <td>Khái niệm Bullion Express đang được giới thiệu...</td>\n",
              "      <td>2011 - Khái niệm SAP Bullion Express được giới...</td>\n",
              "    </tr>\n",
              "    <tr>\n",
              "      <th>3</th>\n",
              "      <td>NaN</td>\n",
              "      <td>Liên Xô duy trì một đại sứ quán ở Oslo và một ...</td>\n",
              "      <td>Liên Xô duy trì một đại sứ quán ở Moskva và mộ...</td>\n",
              "    </tr>\n",
              "    <tr>\n",
              "      <th>4</th>\n",
              "      <td>10.0</td>\n",
              "      <td>Vốn từ vựng thậm chí còn đến Brasil thông qua ...</td>\n",
              "      <td>Vốn từ vựng thậm chí còn đến Brasil bằng cách ...</td>\n",
              "    </tr>\n",
              "    <tr>\n",
              "      <th>...</th>\n",
              "      <td>...</td>\n",
              "      <td>...</td>\n",
              "      <td>...</td>\n",
              "    </tr>\n",
              "    <tr>\n",
              "      <th>12088</th>\n",
              "      <td>15102.0</td>\n",
              "      <td>Đối với đầu máy hơi nước được sử dụng trong dị...</td>\n",
              "      <td>Một bảng quay được sử dụng để quay đầu máy hơi...</td>\n",
              "    </tr>\n",
              "    <tr>\n",
              "      <th>12089</th>\n",
              "      <td>15103.0</td>\n",
              "      <td>Kế hoạch ban đầu là thúc đẩy Paul Collingwood ...</td>\n",
              "      <td>Kế hoạch ban đầu là thúc đẩy Mark Butcher vào ...</td>\n",
              "    </tr>\n",
              "    <tr>\n",
              "      <th>12090</th>\n",
              "      <td>15104.0</td>\n",
              "      <td>Đôi khi các mã đã được cấp đã được sử dụng lại...</td>\n",
              "      <td>Đôi khi các mã đã được chỉ định được sử dụng l...</td>\n",
              "    </tr>\n",
              "    <tr>\n",
              "      <th>12091</th>\n",
              "      <td>15108.0</td>\n",
              "      <td>Một bản nhạc khác cho album không được viết bở...</td>\n",
              "      <td>Một bản nhạc khác được viết cho album không đư...</td>\n",
              "    </tr>\n",
              "    <tr>\n",
              "      <th>12092</th>\n",
              "      <td>15109.0</td>\n",
              "      <td>Szabina Tápai ( sinh ngày 30 tháng 1 năm 1986 ...</td>\n",
              "      <td>Szabina Tápai ( sinh ngày 30 tháng 1 năm 1986 ...</td>\n",
              "    </tr>\n",
              "  </tbody>\n",
              "</table>\n",
              "<p>12093 rows × 3 columns</p>\n",
              "</div>\n",
              "      <button class=\"colab-df-convert\" onclick=\"convertToInteractive('df-f3ef3ba8-f049-4471-b937-8348fb45e8d5')\"\n",
              "              title=\"Convert this dataframe to an interactive table.\"\n",
              "              style=\"display:none;\">\n",
              "        \n",
              "  <svg xmlns=\"http://www.w3.org/2000/svg\" height=\"24px\"viewBox=\"0 0 24 24\"\n",
              "       width=\"24px\">\n",
              "    <path d=\"M0 0h24v24H0V0z\" fill=\"none\"/>\n",
              "    <path d=\"M18.56 5.44l.94 2.06.94-2.06 2.06-.94-2.06-.94-.94-2.06-.94 2.06-2.06.94zm-11 1L8.5 8.5l.94-2.06 2.06-.94-2.06-.94L8.5 2.5l-.94 2.06-2.06.94zm10 10l.94 2.06.94-2.06 2.06-.94-2.06-.94-.94-2.06-.94 2.06-2.06.94z\"/><path d=\"M17.41 7.96l-1.37-1.37c-.4-.4-.92-.59-1.43-.59-.52 0-1.04.2-1.43.59L10.3 9.45l-7.72 7.72c-.78.78-.78 2.05 0 2.83L4 21.41c.39.39.9.59 1.41.59.51 0 1.02-.2 1.41-.59l7.78-7.78 2.81-2.81c.8-.78.8-2.07 0-2.86zM5.41 20L4 18.59l7.72-7.72 1.47 1.35L5.41 20z\"/>\n",
              "  </svg>\n",
              "      </button>\n",
              "      \n",
              "  <style>\n",
              "    .colab-df-container {\n",
              "      display:flex;\n",
              "      flex-wrap:wrap;\n",
              "      gap: 12px;\n",
              "    }\n",
              "\n",
              "    .colab-df-convert {\n",
              "      background-color: #E8F0FE;\n",
              "      border: none;\n",
              "      border-radius: 50%;\n",
              "      cursor: pointer;\n",
              "      display: none;\n",
              "      fill: #1967D2;\n",
              "      height: 32px;\n",
              "      padding: 0 0 0 0;\n",
              "      width: 32px;\n",
              "    }\n",
              "\n",
              "    .colab-df-convert:hover {\n",
              "      background-color: #E2EBFA;\n",
              "      box-shadow: 0px 1px 2px rgba(60, 64, 67, 0.3), 0px 1px 3px 1px rgba(60, 64, 67, 0.15);\n",
              "      fill: #174EA6;\n",
              "    }\n",
              "\n",
              "    [theme=dark] .colab-df-convert {\n",
              "      background-color: #3B4455;\n",
              "      fill: #D2E3FC;\n",
              "    }\n",
              "\n",
              "    [theme=dark] .colab-df-convert:hover {\n",
              "      background-color: #434B5C;\n",
              "      box-shadow: 0px 1px 3px 1px rgba(0, 0, 0, 0.15);\n",
              "      filter: drop-shadow(0px 1px 2px rgba(0, 0, 0, 0.3));\n",
              "      fill: #FFFFFF;\n",
              "    }\n",
              "  </style>\n",
              "\n",
              "      <script>\n",
              "        const buttonEl =\n",
              "          document.querySelector('#df-f3ef3ba8-f049-4471-b937-8348fb45e8d5 button.colab-df-convert');\n",
              "        buttonEl.style.display =\n",
              "          google.colab.kernel.accessAllowed ? 'block' : 'none';\n",
              "\n",
              "        async function convertToInteractive(key) {\n",
              "          const element = document.querySelector('#df-f3ef3ba8-f049-4471-b937-8348fb45e8d5');\n",
              "          const dataTable =\n",
              "            await google.colab.kernel.invokeFunction('convertToInteractive',\n",
              "                                                     [key], {});\n",
              "          if (!dataTable) return;\n",
              "\n",
              "          const docLinkHtml = 'Like what you see? Visit the ' +\n",
              "            '<a target=\"_blank\" href=https://colab.research.google.com/notebooks/data_table.ipynb>data table notebook</a>'\n",
              "            + ' to learn more about interactive tables.';\n",
              "          element.innerHTML = '';\n",
              "          dataTable['output_type'] = 'display_data';\n",
              "          await google.colab.output.renderOutput(dataTable, element);\n",
              "          const docLink = document.createElement('div');\n",
              "          docLink.innerHTML = docLinkHtml;\n",
              "          element.appendChild(docLink);\n",
              "        }\n",
              "      </script>\n",
              "    </div>\n",
              "  </div>\n",
              "  "
            ],
            "text/plain": [
              "         index  ...                                          sentence2\n",
              "0          NaN  ...  Vào tháng 10 năm 1560, ông bí mật gặp đại sứ A...\n",
              "1          3.0  ...  Ngoài ra còn có các cuộc thảo luận công khai, ...\n",
              "2          7.0  ...  2011 - Khái niệm SAP Bullion Express được giới...\n",
              "3          NaN  ...  Liên Xô duy trì một đại sứ quán ở Moskva và mộ...\n",
              "4         10.0  ...  Vốn từ vựng thậm chí còn đến Brasil bằng cách ...\n",
              "...        ...  ...                                                ...\n",
              "12088  15102.0  ...  Một bảng quay được sử dụng để quay đầu máy hơi...\n",
              "12089  15103.0  ...  Kế hoạch ban đầu là thúc đẩy Mark Butcher vào ...\n",
              "12090  15104.0  ...  Đôi khi các mã đã được chỉ định được sử dụng l...\n",
              "12091  15108.0  ...  Một bản nhạc khác được viết cho album không đư...\n",
              "12092  15109.0  ...  Szabina Tápai ( sinh ngày 30 tháng 1 năm 1986 ...\n",
              "\n",
              "[12093 rows x 3 columns]"
            ]
          },
          "metadata": {},
          "execution_count": 5
        }
      ]
    },
    {
      "cell_type": "code",
      "source": [
        "data_0_25k.isnull().sum()"
      ],
      "metadata": {
        "colab": {
          "base_uri": "https://localhost:8080/"
        },
        "id": "yjnnRoY2J2C4",
        "outputId": "80d00341-808e-4eb0-8ca4-a450b6f116e1"
      },
      "execution_count": null,
      "outputs": [
        {
          "output_type": "execute_result",
          "data": {
            "text/plain": [
              "index        12\n",
              "sentence1     0\n",
              "sentence2     0\n",
              "dtype: int64"
            ]
          },
          "metadata": {},
          "execution_count": 6
        }
      ]
    },
    {
      "cell_type": "code",
      "source": [
        "data_0_25k = data_0_25k.dropna()"
      ],
      "metadata": {
        "id": "WQfQ2IMHJ_hd"
      },
      "execution_count": null,
      "outputs": []
    },
    {
      "cell_type": "code",
      "source": [
        "data_0_25k.isnull().sum()"
      ],
      "metadata": {
        "colab": {
          "base_uri": "https://localhost:8080/"
        },
        "id": "dJoPRdK6KTvz",
        "outputId": "af299244-44c0-49a9-c9b9-3c94a445053e"
      },
      "execution_count": null,
      "outputs": [
        {
          "output_type": "execute_result",
          "data": {
            "text/plain": [
              "index        0\n",
              "sentence1    0\n",
              "sentence2    0\n",
              "dtype: int64"
            ]
          },
          "metadata": {},
          "execution_count": 8
        }
      ]
    },
    {
      "cell_type": "code",
      "source": [
        "data_0_25k"
      ],
      "metadata": {
        "colab": {
          "base_uri": "https://localhost:8080/",
          "height": 641
        },
        "id": "TOZMeNxcKUxH",
        "outputId": "4e7bed7e-b4a6-4762-aa62-c1543b23313f"
      },
      "execution_count": null,
      "outputs": [
        {
          "output_type": "execute_result",
          "data": {
            "text/html": [
              "\n",
              "  <div id=\"df-be823b70-763b-45f2-b18e-a6245f23a2ea\">\n",
              "    <div class=\"colab-df-container\">\n",
              "      <div>\n",
              "<style scoped>\n",
              "    .dataframe tbody tr th:only-of-type {\n",
              "        vertical-align: middle;\n",
              "    }\n",
              "\n",
              "    .dataframe tbody tr th {\n",
              "        vertical-align: top;\n",
              "    }\n",
              "\n",
              "    .dataframe thead th {\n",
              "        text-align: right;\n",
              "    }\n",
              "</style>\n",
              "<table border=\"1\" class=\"dataframe\">\n",
              "  <thead>\n",
              "    <tr style=\"text-align: right;\">\n",
              "      <th></th>\n",
              "      <th>index</th>\n",
              "      <th>sentence1</th>\n",
              "      <th>sentence2</th>\n",
              "    </tr>\n",
              "  </thead>\n",
              "  <tbody>\n",
              "    <tr>\n",
              "      <th>1</th>\n",
              "      <td>3.0</td>\n",
              "      <td>Ngoài ra còn có các cuộc thảo luận cụ thể, các...</td>\n",
              "      <td>Ngoài ra còn có các cuộc thảo luận công khai, ...</td>\n",
              "    </tr>\n",
              "    <tr>\n",
              "      <th>2</th>\n",
              "      <td>7.0</td>\n",
              "      <td>Khái niệm Bullion Express đang được giới thiệu...</td>\n",
              "      <td>2011 - Khái niệm SAP Bullion Express được giới...</td>\n",
              "    </tr>\n",
              "    <tr>\n",
              "      <th>4</th>\n",
              "      <td>10.0</td>\n",
              "      <td>Vốn từ vựng thậm chí còn đến Brasil thông qua ...</td>\n",
              "      <td>Vốn từ vựng thậm chí còn đến Brasil bằng cách ...</td>\n",
              "    </tr>\n",
              "    <tr>\n",
              "      <th>5</th>\n",
              "      <td>11.0</td>\n",
              "      <td>Kabir Suman đã thu âm một số album dưới tên Su...</td>\n",
              "      <td>Suman Chatterjee, thu âm một số album giữa năm...</td>\n",
              "    </tr>\n",
              "    <tr>\n",
              "      <th>6</th>\n",
              "      <td>14.0</td>\n",
              "      <td>Ông đã được đào tạo bởi ông của mình, Nick Dak...</td>\n",
              "      <td>Ông đã được huấn luyện bởi ông của mình, Geoff...</td>\n",
              "    </tr>\n",
              "    <tr>\n",
              "      <th>...</th>\n",
              "      <td>...</td>\n",
              "      <td>...</td>\n",
              "      <td>...</td>\n",
              "    </tr>\n",
              "    <tr>\n",
              "      <th>12088</th>\n",
              "      <td>15102.0</td>\n",
              "      <td>Đối với đầu máy hơi nước được sử dụng trong dị...</td>\n",
              "      <td>Một bảng quay được sử dụng để quay đầu máy hơi...</td>\n",
              "    </tr>\n",
              "    <tr>\n",
              "      <th>12089</th>\n",
              "      <td>15103.0</td>\n",
              "      <td>Kế hoạch ban đầu là thúc đẩy Paul Collingwood ...</td>\n",
              "      <td>Kế hoạch ban đầu là thúc đẩy Mark Butcher vào ...</td>\n",
              "    </tr>\n",
              "    <tr>\n",
              "      <th>12090</th>\n",
              "      <td>15104.0</td>\n",
              "      <td>Đôi khi các mã đã được cấp đã được sử dụng lại...</td>\n",
              "      <td>Đôi khi các mã đã được chỉ định được sử dụng l...</td>\n",
              "    </tr>\n",
              "    <tr>\n",
              "      <th>12091</th>\n",
              "      <td>15108.0</td>\n",
              "      <td>Một bản nhạc khác cho album không được viết bở...</td>\n",
              "      <td>Một bản nhạc khác được viết cho album không đư...</td>\n",
              "    </tr>\n",
              "    <tr>\n",
              "      <th>12092</th>\n",
              "      <td>15109.0</td>\n",
              "      <td>Szabina Tápai ( sinh ngày 30 tháng 1 năm 1986 ...</td>\n",
              "      <td>Szabina Tápai ( sinh ngày 30 tháng 1 năm 1986 ...</td>\n",
              "    </tr>\n",
              "  </tbody>\n",
              "</table>\n",
              "<p>12081 rows × 3 columns</p>\n",
              "</div>\n",
              "      <button class=\"colab-df-convert\" onclick=\"convertToInteractive('df-be823b70-763b-45f2-b18e-a6245f23a2ea')\"\n",
              "              title=\"Convert this dataframe to an interactive table.\"\n",
              "              style=\"display:none;\">\n",
              "        \n",
              "  <svg xmlns=\"http://www.w3.org/2000/svg\" height=\"24px\"viewBox=\"0 0 24 24\"\n",
              "       width=\"24px\">\n",
              "    <path d=\"M0 0h24v24H0V0z\" fill=\"none\"/>\n",
              "    <path d=\"M18.56 5.44l.94 2.06.94-2.06 2.06-.94-2.06-.94-.94-2.06-.94 2.06-2.06.94zm-11 1L8.5 8.5l.94-2.06 2.06-.94-2.06-.94L8.5 2.5l-.94 2.06-2.06.94zm10 10l.94 2.06.94-2.06 2.06-.94-2.06-.94-.94-2.06-.94 2.06-2.06.94z\"/><path d=\"M17.41 7.96l-1.37-1.37c-.4-.4-.92-.59-1.43-.59-.52 0-1.04.2-1.43.59L10.3 9.45l-7.72 7.72c-.78.78-.78 2.05 0 2.83L4 21.41c.39.39.9.59 1.41.59.51 0 1.02-.2 1.41-.59l7.78-7.78 2.81-2.81c.8-.78.8-2.07 0-2.86zM5.41 20L4 18.59l7.72-7.72 1.47 1.35L5.41 20z\"/>\n",
              "  </svg>\n",
              "      </button>\n",
              "      \n",
              "  <style>\n",
              "    .colab-df-container {\n",
              "      display:flex;\n",
              "      flex-wrap:wrap;\n",
              "      gap: 12px;\n",
              "    }\n",
              "\n",
              "    .colab-df-convert {\n",
              "      background-color: #E8F0FE;\n",
              "      border: none;\n",
              "      border-radius: 50%;\n",
              "      cursor: pointer;\n",
              "      display: none;\n",
              "      fill: #1967D2;\n",
              "      height: 32px;\n",
              "      padding: 0 0 0 0;\n",
              "      width: 32px;\n",
              "    }\n",
              "\n",
              "    .colab-df-convert:hover {\n",
              "      background-color: #E2EBFA;\n",
              "      box-shadow: 0px 1px 2px rgba(60, 64, 67, 0.3), 0px 1px 3px 1px rgba(60, 64, 67, 0.15);\n",
              "      fill: #174EA6;\n",
              "    }\n",
              "\n",
              "    [theme=dark] .colab-df-convert {\n",
              "      background-color: #3B4455;\n",
              "      fill: #D2E3FC;\n",
              "    }\n",
              "\n",
              "    [theme=dark] .colab-df-convert:hover {\n",
              "      background-color: #434B5C;\n",
              "      box-shadow: 0px 1px 3px 1px rgba(0, 0, 0, 0.15);\n",
              "      filter: drop-shadow(0px 1px 2px rgba(0, 0, 0, 0.3));\n",
              "      fill: #FFFFFF;\n",
              "    }\n",
              "  </style>\n",
              "\n",
              "      <script>\n",
              "        const buttonEl =\n",
              "          document.querySelector('#df-be823b70-763b-45f2-b18e-a6245f23a2ea button.colab-df-convert');\n",
              "        buttonEl.style.display =\n",
              "          google.colab.kernel.accessAllowed ? 'block' : 'none';\n",
              "\n",
              "        async function convertToInteractive(key) {\n",
              "          const element = document.querySelector('#df-be823b70-763b-45f2-b18e-a6245f23a2ea');\n",
              "          const dataTable =\n",
              "            await google.colab.kernel.invokeFunction('convertToInteractive',\n",
              "                                                     [key], {});\n",
              "          if (!dataTable) return;\n",
              "\n",
              "          const docLinkHtml = 'Like what you see? Visit the ' +\n",
              "            '<a target=\"_blank\" href=https://colab.research.google.com/notebooks/data_table.ipynb>data table notebook</a>'\n",
              "            + ' to learn more about interactive tables.';\n",
              "          element.innerHTML = '';\n",
              "          dataTable['output_type'] = 'display_data';\n",
              "          await google.colab.output.renderOutput(dataTable, element);\n",
              "          const docLink = document.createElement('div');\n",
              "          docLink.innerHTML = docLinkHtml;\n",
              "          element.appendChild(docLink);\n",
              "        }\n",
              "      </script>\n",
              "    </div>\n",
              "  </div>\n",
              "  "
            ],
            "text/plain": [
              "         index  ...                                          sentence2\n",
              "1          3.0  ...  Ngoài ra còn có các cuộc thảo luận công khai, ...\n",
              "2          7.0  ...  2011 - Khái niệm SAP Bullion Express được giới...\n",
              "4         10.0  ...  Vốn từ vựng thậm chí còn đến Brasil bằng cách ...\n",
              "5         11.0  ...  Suman Chatterjee, thu âm một số album giữa năm...\n",
              "6         14.0  ...  Ông đã được huấn luyện bởi ông của mình, Geoff...\n",
              "...        ...  ...                                                ...\n",
              "12088  15102.0  ...  Một bảng quay được sử dụng để quay đầu máy hơi...\n",
              "12089  15103.0  ...  Kế hoạch ban đầu là thúc đẩy Mark Butcher vào ...\n",
              "12090  15104.0  ...  Đôi khi các mã đã được chỉ định được sử dụng l...\n",
              "12091  15108.0  ...  Một bản nhạc khác được viết cho album không đư...\n",
              "12092  15109.0  ...  Szabina Tápai ( sinh ngày 30 tháng 1 năm 1986 ...\n",
              "\n",
              "[12081 rows x 3 columns]"
            ]
          },
          "metadata": {},
          "execution_count": 9
        }
      ]
    },
    {
      "cell_type": "code",
      "source": [
        "ls"
      ],
      "metadata": {
        "colab": {
          "base_uri": "https://localhost:8080/"
        },
        "id": "gWLLuYpCKcvc",
        "outputId": "2f3224de-286d-4bd8-9155-679a8fa65138"
      },
      "execution_count": null,
      "outputs": [
        {
          "output_type": "stream",
          "name": "stdout",
          "text": [
            "'[18-12] Pegasus_Fine_Tune_new_data.ipynb'\n",
            "'[2] Nghiem_Le_Hoa_VBD.ipynb'\n",
            "'Bản sao của Nghiem_Le_Hoa_VBD.ipynb'\n",
            "'Bản sao của NLP-baigiang-total.pdf'\n",
            " BLEU_score_plagiarism.ipynb\n",
            " \u001b[0m\u001b[01;34mcheck_ckpt\u001b[0m/\n",
            " checkpoint_index_1.txt\n",
            " checkpoint_index_2.txt\n",
            " checkpoint_index_42k_end.txt\n",
            " checkpoint_index_46_5k_end.txt\n",
            " checkpoint_index_old.txt\n",
            " checkpoint_index.txt\n",
            "'Copy of translate_paws.ipynb'\n",
            " \u001b[01;34mdata\u001b[0m/\n",
            " \u001b[01;34mdata_entailment\u001b[0m/\n",
            " \u001b[01;34mfinal_paws_translated_data\u001b[0m/\n",
            " \u001b[01;34mlightning_logs\u001b[0m/\n",
            " \u001b[01;34mmerge_pair_sentence_dataset\u001b[0m/\n",
            " \u001b[01;34mNLP_Class\u001b[0m/\n",
            " \u001b[01;34mPAWS_Quang_branch\u001b[0m/\n",
            " paws_trans_0_25000.csv\n",
            " paws_trans_0_25000.gsheet\n",
            " paws_trans_42000_46500.csv\n",
            " paws_trans_42000_50000.csv\n",
            " paws_trans_46500_50000.csv\n",
            " Pegasus_Fine_Tune_new_data.ipynb\n",
            " \u001b[01;34mPhoBERT_base_transformers\u001b[0m/\n",
            " Pre-processing.ipynb\n",
            " \u001b[01;34msave_check_point\u001b[0m/\n",
            "'Sentence Entailment BERT.ipynb'\n",
            " T5_Fine_tuning_Phobert.ipynb\n",
            " \u001b[01;34mt5_paraphrase\u001b[0m/\n",
            " \u001b[01;34mtemp\u001b[0m/\n",
            " \u001b[01;34mtranslated_data\u001b[0m/\n",
            " translate_paws_37_49.ipynb\n",
            " Untitled0.ipynb\n",
            "'[v3]_Translation_En_Vi.ipynb'\n",
            "'[v4]_Translation_En_Vi_42k_49k.ipynb'\n",
            "'[v5]_Translation_En_Vi_46k_49k.ipynb'\n",
            " \u001b[01;34mvncorenlp\u001b[0m/\n"
          ]
        }
      ]
    },
    {
      "cell_type": "code",
      "source": [
        "data_25_30k5 = pd.read_csv('PAWS_Quang_branch/Translated_Data/paws_trans_25000_30500.csv')\n",
        "data_30k5_34k5 = pd.read_csv('PAWS_Quang_branch/Translated_Data/paws_trans_30500_34500.csv')\n",
        "data_34k5_37 = pd.read_csv('PAWS_Quang_branch/Translated_Data/paws_trans_34500_37000.csv')\n",
        "data_37_42 = pd.read_csv('PAWS_Quang_branch/Translated_Data/paws_trans_37000_42000.csv')\n"
      ],
      "metadata": {
        "id": "8KMGh1p2KpGT"
      },
      "execution_count": null,
      "outputs": []
    },
    {
      "cell_type": "code",
      "source": [
        "data_25_30k5 = data_25_30k5.dropna()\n",
        "data_30k5_34k5 = data_30k5_34k5.dropna()\n",
        "data_34k5_37 = data_34k5_37.dropna()\n",
        "data_37_42 = data_37_42.dropna()\n"
      ],
      "metadata": {
        "id": "neerf7thLcJT"
      },
      "execution_count": null,
      "outputs": []
    },
    {
      "cell_type": "code",
      "source": [
        "data_42_46k5 = pd.read_csv('paws_trans_42000_50000.csv')\n",
        "data_42_46k5_v2 = pd.read_csv('paws_trans_42000_46500.csv')\n",
        "data_46k5_50 = pd.read_csv('paws_trans_46500_50000.csv')"
      ],
      "metadata": {
        "id": "Fy5OyPAQLfJW"
      },
      "execution_count": null,
      "outputs": []
    },
    {
      "cell_type": "code",
      "source": [
        "data_42_46k5 = data_42_46k5.dropna()\n",
        "data_42_46k5_v2 = data_42_46k5_v2.dropna()\n",
        "data_46k5_50 = data_46k5_50.dropna()"
      ],
      "metadata": {
        "id": "06FlyyFZMCoU"
      },
      "execution_count": null,
      "outputs": []
    },
    {
      "cell_type": "code",
      "source": [
        "train_df = pd.concat([data_0_25k, data_25_30k5,data_30k5_34k5,data_34k5_37,data_37_42,data_42_46k5,data_42_46k5_v2,data_46k5_50], axis=0)"
      ],
      "metadata": {
        "id": "hXo2y0owMGhd"
      },
      "execution_count": null,
      "outputs": []
    },
    {
      "cell_type": "code",
      "source": [
        "train_df.info()"
      ],
      "metadata": {
        "colab": {
          "base_uri": "https://localhost:8080/"
        },
        "id": "B-lxXwFPNFbx",
        "outputId": "561d2505-52b6-49ce-c1ed-99b19609c581"
      },
      "execution_count": null,
      "outputs": [
        {
          "output_type": "stream",
          "name": "stdout",
          "text": [
            "<class 'pandas.core.frame.DataFrame'>\n",
            "Int64Index: 25670 entries, 1 to 1622\n",
            "Data columns (total 3 columns):\n",
            " #   Column     Non-Null Count  Dtype  \n",
            "---  ------     --------------  -----  \n",
            " 0   index      25670 non-null  float64\n",
            " 1   sentence1  25670 non-null  object \n",
            " 2   sentence2  25670 non-null  object \n",
            "dtypes: float64(1), object(2)\n",
            "memory usage: 802.2+ KB\n"
          ]
        }
      ]
    },
    {
      "cell_type": "code",
      "source": [
        "boolean = not train_df[\"index\"].is_unique      # True (credit to @Carsten)\n",
        "boolean = train_df['index'].duplicated().any() # True"
      ],
      "metadata": {
        "id": "o7YlmlPBNG7m"
      },
      "execution_count": null,
      "outputs": []
    },
    {
      "cell_type": "code",
      "source": [
        "boolean"
      ],
      "metadata": {
        "colab": {
          "base_uri": "https://localhost:8080/"
        },
        "id": "TPdA69OgN3sp",
        "outputId": "f9d37a55-c6fa-461b-e86c-c34cf29bb28b"
      },
      "execution_count": null,
      "outputs": [
        {
          "output_type": "execute_result",
          "data": {
            "text/plain": [
              "True"
            ]
          },
          "metadata": {},
          "execution_count": 18
        }
      ]
    },
    {
      "cell_type": "code",
      "source": [
        "train_df = train_df.sort_values(by=['index'], ascending=True)\n"
      ],
      "metadata": {
        "id": "WpVoVX23OWPP"
      },
      "execution_count": null,
      "outputs": []
    },
    {
      "cell_type": "code",
      "source": [
        "train_df.to_csv('final_paws_translated_data/train.csv',index = False)"
      ],
      "metadata": {
        "id": "yxd4JiiSN59S"
      },
      "execution_count": null,
      "outputs": []
    },
    {
      "cell_type": "code",
      "source": [
        ""
      ],
      "metadata": {
        "id": "jYb7Kl3vOhei"
      },
      "execution_count": null,
      "outputs": []
    },
    {
      "cell_type": "markdown",
      "source": [
        "## Dev and Test set preprocess"
      ],
      "metadata": {
        "id": "QwurOMbsOmQ0"
      }
    },
    {
      "cell_type": "code",
      "source": [
        "val_df = pd.read_csv('PAWS_Quang_branch/paws_trans_devset_0_25000.csv')\n",
        "test_df = pd.read_csv('PAWS_Quang_branch/paws_trans_testset_0_25000.csv')\n"
      ],
      "metadata": {
        "id": "6xtHC1L3Oo4i"
      },
      "execution_count": null,
      "outputs": []
    },
    {
      "cell_type": "code",
      "source": [
        "val_df = val_df.dropna()\n",
        "test_df = test_df.dropna()"
      ],
      "metadata": {
        "id": "_rU1w2g1Oww2"
      },
      "execution_count": null,
      "outputs": []
    },
    {
      "cell_type": "code",
      "source": [
        "val_df.to_csv('final_paws_translated_data/val.csv',index = False)\n",
        "test_df.to_csv('final_paws_translated_data/test.csv',index = False)"
      ],
      "metadata": {
        "id": "gBOx6WD5O1Wu"
      },
      "execution_count": null,
      "outputs": []
    }
  ]
}