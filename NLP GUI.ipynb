{
 "cells": [
  {
   "cell_type": "code",
   "execution_count": 29,
   "metadata": {},
   "outputs": [],
   "source": [
    "from bs4 import BeautifulSoup as bs\n",
    "import requests\n",
    "import nltk\n",
    "from difflib import SequenceMatcher\n",
    "import pandas as pd\n",
    "from urllib.parse import quote\n",
    "import time\n",
    "\n",
    "def similarity(str1, str2):\n",
    "    return (SequenceMatcher(None,str1,str2).ratio())*100\n",
    "def getTextFromHtml(text):\n",
    "  return text.replace('<strong>', '').replace('</strong>', '').replace('<cite>', '').replace('</cite>', '').replace('<p>', '').replace('</p>', '')\n",
    "def querry(searchString, show_score=False):\n",
    "  is_plagrism = False\n",
    "  is_plagrism_links = []\n",
    "  start = time.time()\n",
    "  TIMEOUT_DURATION = 3\n",
    "  PLAGIARISED_THRESHOLD = 0.8\n",
    "  url = 'https://www.bing.com/search?q='+quote(searchString)\n",
    "  print(url)\n",
    "  try:\n",
    "      content = requests.get(url, headers = {'User-agent': 'your bot 0.1'}, verify=False, timeout=TIMEOUT_DURATION).content\n",
    "  except:\n",
    "      return 'null'\n",
    "  soup = bs(content, 'html.parser')\n",
    "  # print(soup)\n",
    "  body = soup.find('body')\n",
    "  # print(body)\n",
    "  no_result = body.find_all('li', {\"class\": \"b_no\"})\n",
    "  for r in no_result:\n",
    "    result_string = r.select('h1')\n",
    "    if(str(result_string).startswith('[<h1>There are no results for')):\n",
    "      return 'null'\n",
    "  results = body.find_all('div', {\"class\": \"b_caption\"})\n",
    "  for result in results:\n",
    "    cite = result.find('cite')\n",
    "    # print(result)\n",
    "    text_para = result.find('p')\n",
    "    # print(searchString)\n",
    "    search_unique = set(searchString.lower().split(' '))\n",
    "    # print(len(search_unique))\n",
    "\n",
    "    # print(text_para.text)\n",
    "    # if text_para is not None:\n",
    "    result_text = set(text_para.text.split('·')[-1].strip().replace('...','').lower().split(' '))\n",
    "  # print(len(result_text))\n",
    "    bold_unique = set(getTextFromHtml(str(result.find_all('strong')).replace('[', '').replace(']', '').replace(',','')).lower().split(' '))\n",
    "  # print(len(bold_unique))\n",
    "  \n",
    "    match_bold = len(search_unique&bold_unique)/len(search_unique)\n",
    "    result_match = len(result_text&bold_unique)/len(bold_unique)\n",
    "    if show_score:\n",
    "        print(f'% match bold: {match_bold}')\n",
    "        print(f'% result match: {result_match}')\n",
    "    if match_bold > 0.5 and result_match > 0.5:\n",
    "      is_plagrism = True\n",
    "      is_plagrism_links.append(cite)\n",
    "    print(\"-----\"*3)\n",
    "    # cite = result.find('cite')\n",
    "    # content = result.select('p')\n",
    "    # print(\"link: \", getTextFromHtml(str(cite)))\n",
    "    # print(\"content: \", getTextFromHtml(str(content).replace('[', '').replace(']', '')))\n",
    "    # highlighted_sentences = getTextFromHtml(str(content).replace('[', '').replace(']', '')).split(\".\")\n",
    "    # print(\"bolded sentences: \", highlighted_sentences)\n",
    "    # for sentence in highlighted_sentences:\n",
    "    #   sentence = sentence.strip()\n",
    "    #   if(sentence=='.' or len(sentence)==0):\n",
    "    #     highlighted_sentences.remove(sentence)\n",
    "    # print(\"post processed bolded sentences: \", highlighted_sentences)\n",
    "    # try:\n",
    "    #     website_content = requests.get(getTextFromHtml(str(cite)), timeout=TIMEOUT_DURATION)\n",
    "    # except:\n",
    "    #   continue\n",
    "    # while True:\n",
    "    #   website_content = website_content.content\n",
    "    #   if(website_content!=''):\n",
    "    #     break\n",
    "    # website_text = bs(website_content, \"lxml\").text\n",
    "    # print(website_text)\n",
    "    # matched_sentences = []\n",
    "  return is_plagrism,is_plagrism_links\n",
    "\n",
    "searchString = 't '\n",
    "def inference(searchString, showlink=False, show_score=False):\n",
    "    is_plag, links = querry(searchString, show_score=show_score)\n",
    "    if is_plag:\n",
    "        print('Is Plagiarism')\n",
    "    if showlink:\n",
    "        print('Links:')\n",
    "        for i in links:\n",
    "            print('\\t', i.text)\n",
    "        else:\n",
    "            print('Not Plagiarism')\n",
    "    return is_plag\n",
    "\n",
    "\n",
    "def inference_paragraph(search_paragraph):\n",
    "  sents = nltk.sent_tokenize(search_paragraph)\n",
    "  list_idx = []\n",
    "  final_list = []\n",
    "  for i,sent in enumerate(sents):\n",
    "    is_plag = inference(sent)\n",
    "    if is_plag:\n",
    "      list_idx.append(i)\n",
    "    final_list.append((sent, is_plag))\n",
    "  return final_list\n"
   ]
  },
  {
   "cell_type": "code",
   "execution_count": 38,
   "metadata": {},
   "outputs": [],
   "source": [
    "def demo_funtion(text):\n",
    "    sent1 = 'The quick brown fox jumps over the lazy dog.'\n",
    "    sent2 = 'The quick brown fox jumps over the lazy cog.'\n",
    "    sent3 = 'The quick brown fox jumps over the lazy dog.'\n",
    "    return [(sent1, \"+\"), (sent2, \"-\"), (sent3, \"+\")]"
   ]
  },
  {
   "cell_type": "code",
   "execution_count": 30,
   "metadata": {},
   "outputs": [
    {
     "name": "stdout",
     "output_type": "stream",
     "text": [
      "https://www.bing.com/search?q=Tr%C6%B0%E1%BB%9Bc%20%C4%91%C3%B3%2C%20tr%C3%AAn%20trang%20Facebook%20c%C3%A1%20nh%C3%A2n%20c%C3%B3%20h%C6%A1n%2028%20ngh%C3%ACn%20l%C6%B0%E1%BB%A3t%20theo%20d%C3%B5i%20c%E1%BB%A7a%20Chu%20Thanh%20Huy%E1%BB%81n%20%28%C4%91%C6%B0%E1%BB%A3c%20nhi%E1%BB%81u%20ng%C6%B0%E1%BB%9Di%20cho%20r%E1%BA%B1ng%20l%C3%A0%20b%E1%BA%A1n%20g%C3%A1i%20c%E1%BA%A7u%20th%E1%BB%A7%20%C4%90%E1%BB%99i%20tuy%E1%BB%83n%20Qu%E1%BB%91c%20gia%20Vi%E1%BB%87t%20Nam%20Nguy%E1%BB%85n%20Quang%20H%E1%BA%A3i%29%20%C4%91%C3%A3%20%C4%91%C4%83ng%20t%E1%BA%A3i%20m%E1%BB%99t%20b%C3%A0i%20vi%E1%BA%BFt%20k%C3%A8m%20h%C3%ACnh%20%E1%BA%A3nh%20v%E1%BB%81%20vi%E1%BB%87c%20b%E1%BA%A3n%20th%C3%A2n%20v%C3%A0%20gia%20%C4%91%C3%ACnh%20b%E1%BB%8B%20%C4%91e%20do%E1%BA%A1%20h%C3%A0nh%20hung%2C%20t%E1%BA%A1t%20axit.\n"
     ]
    },
    {
     "name": "stderr",
     "output_type": "stream",
     "text": [
      "C:\\Users\\quangvh3\\Miniconda3\\envs\\myenv\\lib\\site-packages\\urllib3\\connectionpool.py:1020: InsecureRequestWarning: Unverified HTTPS request is being made to host 'www.bing.com'. Adding certificate verification is strongly advised. See: https://urllib3.readthedocs.io/en/1.26.x/advanced-usage.html#ssl-warnings\n",
      "  InsecureRequestWarning,\n"
     ]
    },
    {
     "name": "stdout",
     "output_type": "stream",
     "text": [
      "---------------\n",
      "---------------\n"
     ]
    },
    {
     "data": {
      "text/plain": [
       "False"
      ]
     },
     "execution_count": 30,
     "metadata": {},
     "output_type": "execute_result"
    }
   ],
   "source": [
    "inference('Trước đó, trên trang Facebook cá nhân có hơn 28 nghìn lượt theo dõi của Chu Thanh Huyền (được nhiều người cho rằng là bạn gái cầu thủ Đội tuyển Quốc gia Việt Nam Nguyễn Quang Hải) đã đăng tải một bài viết kèm hình ảnh về việc bản thân và gia đình bị đe doạ hành hung, tạt axit.')"
   ]
  },
  {
   "cell_type": "code",
   "execution_count": 27,
   "metadata": {},
   "outputs": [
    {
     "name": "stdout",
     "output_type": "stream",
     "text": [
      "https://www.bing.com/search?q=Tr%C6%B0%E1%BB%9Bc%20%C4%91%C3%B3%2C%20tr%C3%AAn%20trang%20Facebook%20c%C3%A1%20nh%C3%A2n%20c%C3%B3%20h%C6%A1n%2028%20ngh%C3%ACn%20l%C6%B0%E1%BB%A3t%20theo%20d%C3%B5i%20c%E1%BB%A7a%20Chu%20Thanh%20Huy%E1%BB%81n%20%28%C4%91%C6%B0%E1%BB%A3c%20nhi%E1%BB%81u%20ng%C6%B0%E1%BB%9Di%20cho%20r%E1%BA%B1ng%20l%C3%A0%20b%E1%BA%A1n%20g%C3%A1i%20c%E1%BA%A7u%20th%E1%BB%A7%20%C4%90%E1%BB%99i%20tuy%E1%BB%83n%20Qu%E1%BB%91c%20gia%20Vi%E1%BB%87t%20Nam%20Nguy%E1%BB%85n%20Quang%20H%E1%BA%A3i%29%20%C4%91%C3%A3%20%C4%91%C4%83ng%20t%E1%BA%A3i%20m%E1%BB%99t%20b%C3%A0i%20vi%E1%BA%BFt%20k%C3%A8m%20h%C3%ACnh%20%E1%BA%A3nh%20v%E1%BB%81%20vi%E1%BB%87c%20b%E1%BA%A3n%20th%C3%A2n%20v%C3%A0%20gia%20%C4%91%C3%ACnh%20b%E1%BB%8B%20%C4%91e%20do%E1%BA%A1%20h%C3%A0nh%20hung%2C%20t%E1%BA%A1t%20axit.\n"
     ]
    },
    {
     "name": "stderr",
     "output_type": "stream",
     "text": [
      "C:\\Users\\quangvh3\\Miniconda3\\envs\\myenv\\lib\\site-packages\\urllib3\\connectionpool.py:1020: InsecureRequestWarning: Unverified HTTPS request is being made to host 'www.bing.com'. Adding certificate verification is strongly advised. See: https://urllib3.readthedocs.io/en/1.26.x/advanced-usage.html#ssl-warnings\n",
      "  InsecureRequestWarning,\n"
     ]
    },
    {
     "name": "stdout",
     "output_type": "stream",
     "text": [
      "---------------\n",
      "---------------\n",
      "---------------\n",
      "---------------\n",
      "---------------\n",
      "---------------\n",
      "https://www.bing.com/search?q=Th%E1%BA%ADm%20ch%C3%AD%2C%20c%C3%B4%20g%C3%A1i%20c%C3%B2n%20b%E1%BB%8B%20%C4%91e%20do%E1%BA%A1%20l%C3%A0m%20lan%20truy%E1%BB%81n%20c%C3%A1c%20h%C3%ACnh%20%E1%BA%A3nh%20nh%E1%BA%A1y%20c%E1%BA%A3m%20tr%C3%AAn%20danh%20ngh%C4%A9a%20c%E1%BB%A7a%20Huy%E1%BB%81n.\n"
     ]
    },
    {
     "name": "stderr",
     "output_type": "stream",
     "text": [
      "C:\\Users\\quangvh3\\Miniconda3\\envs\\myenv\\lib\\site-packages\\urllib3\\connectionpool.py:1020: InsecureRequestWarning: Unverified HTTPS request is being made to host 'www.bing.com'. Adding certificate verification is strongly advised. See: https://urllib3.readthedocs.io/en/1.26.x/advanced-usage.html#ssl-warnings\n",
      "  InsecureRequestWarning,\n"
     ]
    },
    {
     "name": "stdout",
     "output_type": "stream",
     "text": [
      "---------------\n",
      "---------------\n",
      "---------------\n",
      "---------------\n",
      "---------------\n",
      "---------------\n",
      "---------------\n",
      "---------------\n",
      "---------------\n",
      "---------------\n",
      "https://www.bing.com/search?q=Theo%20nh%E1%BB%AFng%20h%C3%ACnh%20%E1%BA%A3nh%20ch%E1%BB%A5p%20l%E1%BA%A1i%20%C4%91o%E1%BA%A1n%20tin%20nh%E1%BA%AFn%2C%20c%C3%B3%20m%E1%BB%99t%20ng%C6%B0%E1%BB%9Di%20t%E1%BB%B1%20x%C6%B0ng%20l%C3%A0%20b%C3%AAn%20th%E1%BB%A9%203%20%C4%91%C6%B0%E1%BB%A3c%20thu%C3%AA%20%C4%91%E1%BB%83%20t%E1%BA%A5n%20c%C3%B4ng%20trang%20c%C3%A1%20nh%C3%A2n%20v%C3%A0%20c%C3%A1c%20t%C3%A0i%20kho%E1%BA%A3n%20m%E1%BA%A1ng%20x%C3%A3%20h%E1%BB%99i%20c%E1%BB%A7a%20Huy%E1%BB%81n.\n"
     ]
    },
    {
     "name": "stderr",
     "output_type": "stream",
     "text": [
      "C:\\Users\\quangvh3\\Miniconda3\\envs\\myenv\\lib\\site-packages\\urllib3\\connectionpool.py:1020: InsecureRequestWarning: Unverified HTTPS request is being made to host 'www.bing.com'. Adding certificate verification is strongly advised. See: https://urllib3.readthedocs.io/en/1.26.x/advanced-usage.html#ssl-warnings\n",
      "  InsecureRequestWarning,\n"
     ]
    },
    {
     "name": "stdout",
     "output_type": "stream",
     "text": [
      "---------------\n",
      "---------------\n",
      "---------------\n",
      "---------------\n",
      "---------------\n",
      "---------------\n",
      "---------------\n",
      "---------------\n",
      "---------------\n",
      "---------------\n"
     ]
    },
    {
     "data": {
      "text/plain": [
       "[('Trước đó, trên trang Facebook cá nhân có hơn 28 nghìn lượt theo dõi của Chu Thanh Huyền (được nhiều người cho rằng là bạn gái cầu thủ Đội tuyển Quốc gia Việt Nam Nguyễn Quang Hải) đã đăng tải một bài viết kèm hình ảnh về việc bản thân và gia đình bị đe doạ hành hung, tạt axit.',\n",
       "  False),\n",
       " ('Thậm chí, cô gái còn bị đe doạ làm lan truyền các hình ảnh nhạy cảm trên danh nghĩa của Huyền.',\n",
       "  False),\n",
       " ('Theo những hình ảnh chụp lại đoạn tin nhắn, có một người tự xưng là bên thứ 3 được thuê để tấn công trang cá nhân và các tài khoản mạng xã hội của Huyền.',\n",
       "  False)]"
      ]
     },
     "execution_count": 27,
     "metadata": {},
     "output_type": "execute_result"
    }
   ],
   "source": [
    "inference_paragraph(default_para)"
   ]
  },
  {
   "cell_type": "code",
   "execution_count": 39,
   "metadata": {},
   "outputs": [
    {
     "data": {
      "text/plain": [
       "[('The quick brown fox jumps over the lazy dog.', '+'),\n",
       " ('The quick brown fox jumps over the lazy cog.', '-'),\n",
       " ('The quick brown fox jumps over the lazy dog.', '+')]"
      ]
     },
     "execution_count": 39,
     "metadata": {},
     "output_type": "execute_result"
    }
   ],
   "source": [
    "demo_funtion(\"asdfafs\")"
   ]
  },
  {
   "cell_type": "code",
   "execution_count": 40,
   "metadata": {},
   "outputs": [
    {
     "name": "stdout",
     "output_type": "stream",
     "text": [
      "Running on local URL:  http://127.0.0.1:7871/\n",
      "\n",
      "To create a public link, set `share=True` in `launch()`.\n"
     ]
    },
    {
     "data": {
      "text/html": [
       "\n",
       "        <iframe\n",
       "            width=\"900\"\n",
       "            height=\"500\"\n",
       "            src=\"http://127.0.0.1:7871/\"\n",
       "            frameborder=\"0\"\n",
       "            allowfullscreen\n",
       "        ></iframe>\n",
       "        "
      ],
      "text/plain": [
       "<IPython.lib.display.IFrame at 0x22758386400>"
      ]
     },
     "metadata": {},
     "output_type": "display_data"
    },
    {
     "data": {
      "text/plain": [
       "(<Flask 'gradio.networking'>, 'http://127.0.0.1:7871/', None)"
      ]
     },
     "execution_count": 40,
     "metadata": {},
     "output_type": "execute_result"
    }
   ],
   "source": [
    "\n",
    "import gradio\n",
    "# https://gradio.app/docs/#interface\n",
    "\n",
    "#interface congifuration\n",
    "fn=inference_paragraph\n",
    "\n",
    "default_para = \"\"\"Trước đó, trên trang Facebook cá nhân có hơn 28 nghìn lượt theo dõi của Chu Thanh Huyền (được nhiều người cho rằng là bạn gái cầu thủ Đội tuyển Quốc gia Việt Nam Nguyễn Quang Hải) đã đăng tải một bài viết kèm hình ảnh về việc bản thân và gia đình bị đe doạ hành hung, tạt axit. Thậm chí, cô gái còn bị đe doạ làm lan truyền các hình ảnh nhạy cảm trên danh nghĩa của Huyền.\n",
    "\n",
    "\n",
    "Theo những hình ảnh chụp lại đoạn tin nhắn, có một người tự xưng là bên thứ 3 được thuê để tấn công trang cá nhân và các tài khoản mạng xã hội của Huyền. \n",
    "\n",
    "\"\"\"\n",
    "inputs=gradio.inputs.Textbox( lines=17, placeholder=\"Put your writing here\", default=default_para, label=None)\n",
    "color_map={\"+\": \"lightgreen\", \"-\": \"pink\"}\n",
    "outputs=gradio.outputs.HighlightedText(color_map=None, label=None)\n",
    "# outputs=gradio.outputs.Textbox(type=\"auto\", label=None)\n",
    "\n",
    "\n",
    "\n",
    "enable_queue = False\n",
    "\n",
    "iface_detection = gradio.Interface(fn=demo_funtion, inputs=inputs, outputs=outputs, verbose=False, examples=None, examples_per_page=10,\n",
    "                     live=False, layout=\"unaligned\", capture_session=False, interpretation=None, num_shap=2.0,\n",
    "                     theme=None, title=None, description=None, article=None, thumbnail=None,\n",
    "                     css=None, server_port=None, server_name=\"127.0.0.1\", allow_screenshot=True,\n",
    "                     allow_flagging=None, flagging_options=None, encrypt=False, show_tips=False,\n",
    "                     flagging_dir=\"flagged\", enable_queue=enable_queue, api_mode=False)\n",
    "\n",
    "#launch config\n",
    "share=False\n",
    "# auth=[(\"quang\", \"quang\"), (\"quang1\", \"quang1\")]\n",
    "auth = None # no auth\n",
    "iface_detection.launch(inline=None, inbrowser=None, share=share, debug=False, auth=auth, auth_message=None)\n"
   ]
  },
  {
   "cell_type": "code",
   "execution_count": 59,
   "metadata": {},
   "outputs": [
    {
     "name": "stdout",
     "output_type": "stream",
     "text": [
      "Running on local URL:  http://127.0.0.1:7878/\n",
      "\n",
      "To create a public link, set `share=True` in `launch()`.\n"
     ]
    },
    {
     "data": {
      "text/html": [
       "\n",
       "        <iframe\n",
       "            width=\"900\"\n",
       "            height=\"500\"\n",
       "            src=\"http://127.0.0.1:7878/\"\n",
       "            frameborder=\"0\"\n",
       "            allowfullscreen\n",
       "        ></iframe>\n",
       "        "
      ],
      "text/plain": [
       "<IPython.lib.display.IFrame at 0x22758c7db38>"
      ]
     },
     "metadata": {},
     "output_type": "display_data"
    },
    {
     "data": {
      "text/plain": [
       "(<Flask 'gradio.networking'>, 'http://127.0.0.1:7878/', None)"
      ]
     },
     "execution_count": 59,
     "metadata": {},
     "output_type": "execute_result"
    }
   ],
   "source": [
    "\n",
    "# https://gradio.app/docs/#interface\n",
    "\n",
    "#interface congifuration\n",
    "def FunctionName(a, b):\n",
    "    return a + b\n",
    "    \n",
    "fn=FunctionName\n",
    "inputs=None\n",
    "outputs=gradio.outputs.Textbox()\n",
    "enable_queue = False\n",
    "\n",
    "iface_generator = gradio.Interface(fn=FunctionName, inputs=input, outputs=outputs)\n",
    "\n",
    "#launch config\n",
    "share=False\n",
    "# auth=[(\"quang\", \"quang\"), (\"quang1\", \"quang1\")]\n",
    "auth = None # no auth\n",
    "iface_generator.launch(inline=None, inbrowser=None, share=share, debug=False, auth=auth, auth_message=None)\n"
   ]
  },
  {
   "cell_type": "code",
   "execution_count": 53,
   "metadata": {},
   "outputs": [
    {
     "data": {
      "text/plain": [
       "[CheckboxGroup(label=\"None\"), CheckboxGroup(label=\"None\")]"
      ]
     },
     "execution_count": 53,
     "metadata": {},
     "output_type": "execute_result"
    }
   ],
   "source": [
    "input"
   ]
  },
  {
   "cell_type": "code",
   "execution_count": 48,
   "metadata": {},
   "outputs": [
    {
     "data": {
      "text/plain": [
       "[CheckboxGroup(label=\"None\"), CheckboxGroup(label=\"None\")]"
      ]
     },
     "execution_count": 48,
     "metadata": {},
     "output_type": "execute_result"
    }
   ],
   "source": [
    "input"
   ]
  },
  {
   "cell_type": "code",
   "execution_count": 60,
   "metadata": {},
   "outputs": [
    {
     "data": {
      "text/plain": [
       "[('The quick brown fox jumps over the lazy dog.', '+'),\n",
       " ('The quick brown fox jumps over the lazy cog.', '-'),\n",
       " ('The quick brown fox jumps over the lazy dog.', '+')]"
      ]
     },
     "execution_count": 60,
     "metadata": {},
     "output_type": "execute_result"
    }
   ],
   "source": [
    "demo_detector_output"
   ]
  },
  {
   "cell_type": "code",
   "execution_count": null,
   "metadata": {},
   "outputs": [],
   "source": []
  },
  {
   "cell_type": "code",
   "execution_count": 58,
   "metadata": {},
   "outputs": [],
   "source": [
    "demo_detector_output= demo_funtion(\"asdfasf\")\n",
    "input=[]\n",
    "for sent in demo_detector_output:\n",
    "    if sent[-1]==\"+\":\n",
    "        input.append(gradio.inputs.Dropdown([\"ran\", \"swam\", \"ate\", \"slept\"], label=sent))\n",
    "\n"
   ]
  },
  {
   "cell_type": "code",
   "execution_count": 42,
   "metadata": {},
   "outputs": [
    {
     "name": "stdout",
     "output_type": "stream",
     "text": [
      "Running on local URL:  http://127.0.0.1:7872/\n",
      "\n",
      "To create a public link, set `share=True` in `launch()`.\n"
     ]
    },
    {
     "data": {
      "text/html": [
       "\n",
       "        <iframe\n",
       "            width=\"900\"\n",
       "            height=\"500\"\n",
       "            src=\"http://127.0.0.1:7872/\"\n",
       "            frameborder=\"0\"\n",
       "            allowfullscreen\n",
       "        ></iframe>\n",
       "        "
      ],
      "text/plain": [
       "<IPython.lib.display.IFrame at 0x227581f8208>"
      ]
     },
     "metadata": {},
     "output_type": "display_data"
    },
    {
     "data": {
      "text/plain": [
       "(<Flask 'gradio.networking'>, 'http://127.0.0.1:7872/', None)"
      ]
     },
     "execution_count": 42,
     "metadata": {},
     "output_type": "execute_result"
    }
   ],
   "source": [
    "\n",
    "\n",
    "gen_sentences = [[\"sent1\", \"sent2\", \"sent3\"],\n",
    "             [\"sent1\", \"sent2\", \"sent3\"],\n",
    "             [\"sent1\", \"sent2\", \"sent3\"]]\n",
    "input = [gradio.inputs.Dropdown(gen_sentences[i]) for i in range(len(gen_sentences))]\n",
    "gen_sents = [(\"facebook\", [\"sent1\", \"sent2\", \"sent3\"]),\n",
    "             (\"uyhsda\", [\"sent1\", \"sent2\", \"sent3\"]),\n",
    "             (\"asdfsad\", [\"sent1\", \"sent2\", \"sent3\"])]\n",
    "inputs = []\n",
    "for i in range(len(gen_sents)):\n",
    "    choices = gen_sents[i][1]\n",
    "    label = gen_sents[i][0]\n",
    "    inputs.append(gradio.inputs.Dropdown(choices, label=label))\n",
    "\n",
    "gen_sentences = [[\"sent1\", \"sent2\", \"sent3\"],\n",
    "             [\"sent1\", \"sent2\", \"sent3\"],\n",
    "             [\"sent1\", \"sent2\", \"sent3\"]]\n",
    "input = [gradio.inputs.Dropdown(gen_sentences[i]) for i in range(len(gen_sentences))]\n",
    "\n",
    "\n",
    "# iface = gradio.Interface(\n",
    "#     sentence_builder,\n",
    "#     [\n",
    "#         gradio.inputs.Slider(2, 20),\n",
    "#         gradio.inputs.Dropdown([\"cats\", \"dogaaaaaaaaaaaaaaaaaaa\", \"biraaaaaaaaaaaaaaaaaaaaaaaad\"]),\n",
    "#         gradio.inputs.Radio([\"park\", \"zoo\", \"road\"]),\n",
    "#         gradio.inputs.Checkboxgradiooup([\"ran\", \"swam\", \"ate\", \"slept\"]),\n",
    "#         gradio.inputs.Checkbox(label=\"Is it the morning?\"),\n",
    "#     ],\n",
    "#     \"text\",\n",
    "#     examples=[\n",
    "#         [2, \"cat\", \"park\", [\"ran\", \"swam\"], True],\n",
    "#         [4, \"dog\", \"zoo\", [\"ate\", \"swam\"], False],\n",
    "#         [10, \"bird\", \"road\", [\"ran\"], False],\n",
    "#         [8, \"cat\", \"zoo\", [\"ate\"], True],\n",
    "#     ],\n",
    "# )\n",
    "\n",
    "input = [gradio.inputs.Dropdown(gen_sentences[i]) for i in range(len(gen_sentences))]\n",
    "\n",
    "iface = gradio.Interface(\n",
    "    demo_funtion,\n",
    "    [\n",
    "        gradio.inputs.Slider(2, 20),\n",
    "        gradio.inputs.Dropdown([\"cats\", \"dogaaaaaaaaaaaaaaaaaaa\", \"biraaaaaaaaaaaaaaaaaaaaaaaad\"]),\n",
    "        gradio.inputs.Radio([\"park\", \"zoo\", \"road\"]),\n",
    "        gradio.inputs.CheckboxGroup([\"ran\", \"swam\", \"ate\", \"slept\"]),\n",
    "        gradio.inputs.Checkbox(label=\"Is it the morning?\"),\n",
    "    ],\n",
    "    \"text\",\n",
    "    examples=[\n",
    "        [2, \"cat\", \"park\", [\"ran\", \"swam\"], True],\n",
    "        [4, \"dog\", \"zoo\", [\"ate\", \"swam\"], False],\n",
    "        [10, \"bird\", \"road\", [\"ran\"], False],\n",
    "        [8, \"cat\", \"zoo\", [\"ate\"], True],\n",
    "    ],\n",
    ")\n",
    "\n",
    "iface.launch()\n"
   ]
  },
  {
   "cell_type": "code",
   "execution_count": null,
   "metadata": {},
   "outputs": [],
   "source": []
  }
 ],
 "metadata": {
  "interpreter": {
   "hash": "823f8a2ca4c422bd8486c6808200433667340caa10e4ce277e46d1348df1616b"
  },
  "kernelspec": {
   "display_name": "Python 3.7.10 64-bit ('base': conda)",
   "language": "python",
   "name": "python3"
  },
  "language_info": {
   "codemirror_mode": {
    "name": "ipython",
    "version": 3
   },
   "file_extension": ".py",
   "mimetype": "text/x-python",
   "name": "python",
   "nbconvert_exporter": "python",
   "pygments_lexer": "ipython3",
   "version": "3.6.13"
  },
  "orig_nbformat": 4
 },
 "nbformat": 4,
 "nbformat_minor": 2
}
