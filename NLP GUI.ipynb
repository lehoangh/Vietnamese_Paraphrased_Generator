{
 "cells": [
  {
   "cell_type": "code",
   "execution_count": 2,
   "metadata": {},
   "outputs": [],
   "source": [
    "import gradio\n"
   ]
  },
  {
   "cell_type": "code",
   "execution_count": 28,
   "metadata": {},
   "outputs": [],
   "source": [
    "def demo_funtion(a, b):\n",
    "    sent1 = 'The quick brown fox jumps over the lazy dog.'\n",
    "    sent2 = 'The quick brown fox jumps over the lazy cog.'\n",
    "    sent3 = 'The quick brown fox jumps over the lazy dog.'\n",
    "    return [(sent1, \"+\"), (sent2, \"-\"), (sent3, \"+\")]"
   ]
  },
  {
   "cell_type": "code",
   "execution_count": 31,
   "metadata": {},
   "outputs": [],
   "source": [
    "demo_funtion(\"asdfafs\")"
   ]
  },
  {
   "cell_type": "code",
   "execution_count": 33,
   "metadata": {},
   "outputs": [
    {
     "name": "stdout",
     "output_type": "stream",
     "text": [
      "Running on local URL:  http://127.0.0.1:7869/\n",
      "\n",
      "To create a public link, set `share=True` in `launch()`.\n"
     ]
    },
    {
     "data": {
      "text/html": [
       "\n",
       "        <iframe\n",
       "            width=\"900\"\n",
       "            height=\"500\"\n",
       "            src=\"http://127.0.0.1:7869/\"\n",
       "            frameborder=\"0\"\n",
       "            allowfullscreen\n",
       "        ></iframe>\n",
       "        "
      ],
      "text/plain": [
       "<IPython.lib.display.IFrame at 0x23ce4dd4dd8>"
      ]
     },
     "metadata": {},
     "output_type": "display_data"
    },
    {
     "data": {
      "text/plain": [
       "(<Flask 'gradio.networking'>, 'http://127.0.0.1:7869/', None)"
      ]
     },
     "execution_count": 33,
     "metadata": {},
     "output_type": "execute_result"
    }
   ],
   "source": [
    "\n",
    "# https://gradio.app/docs/#interface\n",
    "\n",
    "#interface congifuration\n",
    "\n",
    "default_para = \"\"\"Trước đó, trên trang Facebook cá nhân có hơn 28 nghìn lượt theo dõi của Chu Thanh Huyền (được nhiều người cho rằng là bạn gái cầu thủ Đội tuyển Quốc gia Việt Nam Nguyễn Quang Hải) đã đăng tải một bài viết kèm hình ảnh về việc bản thân và gia đình bị đe doạ hành hung, tạt axit. Thậm chí, cô gái còn bị đe doạ làm lan truyền các hình ảnh nhạy cảm trên danh nghĩa của Huyền.\n",
    "\n",
    "\n",
    "Theo những hình ảnh chụp lại đoạn tin nhắn, có một người tự xưng là bên thứ 3 được thuê để tấn công trang cá nhân và các tài khoản mạng xã hội của Huyền. \n",
    "\n",
    "\"\"\"\n",
    "input_original=gradio.inputs.Textbox( lines=10, placeholder=\"Put your writing here\", default=None, label=\"Câu gốc\")\n",
    "input_own_paraphrase=gradio.inputs.Textbox( lines=10, placeholder=\"Put your writing here\", default=None, label=\"Câu tự paraphrase\")\n",
    "inputs = [input_original, input_own_paraphrase]\n",
    "color_map={\"+\": \"lightgreen\", \"-\": \"pink\"}\n",
    "outputs=gradio.outputs.HighlightedText(color_map=None, label=None)\n",
    "# outputs=gradio.outputs.Textbox(type=\"auto\", label=None)\n",
    "\n",
    "\n",
    "\n",
    "enable_queue = False\n",
    "\n",
    "iface_detection = gradio.Interface(fn=demo_funtion, inputs=inputs, outputs=outputs, verbose=False, examples=None, examples_per_page=10,\n",
    "                     live=False, layout=\"unaligned\", capture_session=False, interpretation=None, num_shap=2.0,\n",
    "                     theme=None, title=None, description=None, article=None, thumbnail=None,\n",
    "                     css=None, server_port=None, server_name=\"127.0.0.1\", allow_screenshot=True,\n",
    "                     allow_flagging=None, flagging_options=None, encrypt=False, show_tips=False,\n",
    "                     flagging_dir=\"flagged\", enable_queue=enable_queue, api_mode=False)\n",
    "\n",
    "#launch config\n",
    "share=False\n",
    "# auth=[(\"quang\", \"quang\"), (\"quang1\", \"quang1\")]\n",
    "auth = None # no auth\n",
    "iface_detection.launch(inline=None, inbrowser=None, share=share, debug=False, auth=auth, auth_message=None)\n"
   ]
  },
  {
   "cell_type": "code",
   "execution_count": 6,
   "metadata": {},
   "outputs": [
    {
     "data": {
      "text/plain": [
       "<bound method Kernel.raw_input of <ipykernel.ipkernel.IPythonKernel object at 0x0000023CE04E8AC8>>"
      ]
     },
     "execution_count": 6,
     "metadata": {},
     "output_type": "execute_result"
    }
   ],
   "source": [
    "input"
   ]
  },
  {
   "cell_type": "code",
   "execution_count": 20,
   "metadata": {},
   "outputs": [],
   "source": [
    "gen_sentences = [[\"sent1\", \"sent2\", \"sent3\"],\n",
    "             [\"sent1\", \"sent2\", \"sent3\"],\n",
    "             [\"sent1\", \"sent2\", \"sent3\"]]\n",
    "input = [gradio.inputs.Dropdown(gen_sentences[i]) for i in range(len(gen_sentences))]\n",
    "gen_sents = [(\"facebook\", [\"sent1\", \"sent2\", \"sent3\"]),\n",
    "             (\"uyhsda\", [\"sent1\", \"sent2\", \"sent3\"]),\n",
    "             (\"asdfsad\", [\"sent1\", \"sent2\", \"sent3\"])]\n",
    "inputs = []\n",
    "for i in range(len(gen_sents)):\n",
    "    choices = gen_sents[i][1]\n",
    "    label = gen_sents[i][0]\n",
    "    inputs.append(gradio.inputs.Dropdown(choices, label=label))\n",
    "\n"
   ]
  },
  {
   "cell_type": "code",
   "execution_count": 21,
   "metadata": {},
   "outputs": [
    {
     "data": {
      "text/plain": [
       "[Dropdown(label=\"facebook\"),\n",
       " Dropdown(label=\"uyhsda\"),\n",
       " Dropdown(label=\"asdfsad\")]"
      ]
     },
     "execution_count": 21,
     "metadata": {},
     "output_type": "execute_result"
    }
   ],
   "source": [
    "inputs"
   ]
  },
  {
   "cell_type": "code",
   "execution_count": 22,
   "metadata": {},
   "outputs": [
    {
     "name": "stdout",
     "output_type": "stream",
     "text": [
      "Running on local URL:  http://127.0.0.1:7862/\n",
      "\n",
      "To create a public link, set `share=True` in `launch()`.\n"
     ]
    },
    {
     "data": {
      "text/html": [
       "\n",
       "        <iframe\n",
       "            width=\"900\"\n",
       "            height=\"500\"\n",
       "            src=\"http://127.0.0.1:7862/\"\n",
       "            frameborder=\"0\"\n",
       "            allowfullscreen\n",
       "        ></iframe>\n",
       "        "
      ],
      "text/plain": [
       "<IPython.lib.display.IFrame at 0x23ce57cccc0>"
      ]
     },
     "metadata": {},
     "output_type": "display_data"
    },
    {
     "data": {
      "text/plain": [
       "(<Flask 'gradio.networking'>, 'http://127.0.0.1:7862/', None)"
      ]
     },
     "execution_count": 22,
     "metadata": {},
     "output_type": "execute_result"
    }
   ],
   "source": [
    "\n",
    "# https://gradio.app/docs/#interface\n",
    "\n",
    "#interface congifuration\n",
    "def FunctionName(a, b, c):\n",
    "    return a + b + c\n",
    "\n",
    "fn=FunctionName\n",
    "outputs=gradio.outputs.Textbox()\n",
    "enable_queue = False\n",
    "\n",
    "iface_generator = gradio.Interface(fn=FunctionName, inputs=inputs, outputs=outputs)\n",
    "\n",
    "#launch config\n",
    "share=False\n",
    "# auth=[(\"quang\", \"quang\"), (\"quang1\", \"quang1\")]\n",
    "auth = None # no auth\n",
    "iface_generator.launch(inline=None, inbrowser=None, share=share, debug=False, auth=auth, auth_message=None)\n"
   ]
  },
  {
   "cell_type": "code",
   "execution_count": 1,
   "metadata": {},
   "outputs": [
    {
     "ename": "NameError",
     "evalue": "name 'gradio' is not defined",
     "output_type": "error",
     "traceback": [
      "\u001b[1;31m---------------------------------------------------------------------------\u001b[0m",
      "\u001b[1;31mNameError\u001b[0m                                 Traceback (most recent call last)",
      "\u001b[1;32m<ipython-input-1-a453aa1c27c3>\u001b[0m in \u001b[0;36m<module>\u001b[1;34m\u001b[0m\n\u001b[1;32m----> 1\u001b[1;33m \u001b[0mhelp\u001b[0m\u001b[1;33m(\u001b[0m\u001b[0mgradio\u001b[0m\u001b[1;33m.\u001b[0m\u001b[0mSeries\u001b[0m\u001b[1;33m)\u001b[0m\u001b[1;33m\u001b[0m\u001b[1;33m\u001b[0m\u001b[0m\n\u001b[0m",
      "\u001b[1;31mNameError\u001b[0m: name 'gradio' is not defined"
     ]
    }
   ],
   "source": [
    "help(gradio.Series)"
   ]
  },
  {
   "cell_type": "code",
   "execution_count": 1,
   "metadata": {},
   "outputs": [
    {
     "ename": "NameError",
     "evalue": "name 'gradio' is not defined",
     "output_type": "error",
     "traceback": [
      "\u001b[1;31m---------------------------------------------------------------------------\u001b[0m",
      "\u001b[1;31mNameError\u001b[0m                                 Traceback (most recent call last)",
      "\u001b[1;32m<ipython-input-1-0307b790721d>\u001b[0m in \u001b[0;36m<module>\u001b[1;34m\u001b[0m\n\u001b[1;32m----> 1\u001b[1;33m \u001b[0mgradio\u001b[0m\u001b[1;33m.\u001b[0m\u001b[0mSeries\u001b[0m\u001b[1;33m(\u001b[0m\u001b[0miface_detection\u001b[0m\u001b[1;33m,\u001b[0m \u001b[0miface_generator\u001b[0m\u001b[1;33m)\u001b[0m\u001b[1;33m.\u001b[0m\u001b[0mlaunch\u001b[0m\u001b[1;33m(\u001b[0m\u001b[1;33m)\u001b[0m\u001b[1;33m\u001b[0m\u001b[1;33m\u001b[0m\u001b[0m\n\u001b[0m",
      "\u001b[1;31mNameError\u001b[0m: name 'gradio' is not defined"
     ]
    }
   ],
   "source": [
    "\n",
    "\n",
    "gradio.Series(iface_detection, iface_generator).launch()"
   ]
  },
  {
   "cell_type": "code",
   "execution_count": null,
   "metadata": {},
   "outputs": [],
   "source": []
  }
 ],
 "metadata": {
  "interpreter": {
   "hash": "823f8a2ca4c422bd8486c6808200433667340caa10e4ce277e46d1348df1616b"
  },
  "kernelspec": {
   "display_name": "Python 3.7.10 64-bit ('base': conda)",
   "language": "python",
   "name": "python3"
  },
  "language_info": {
   "codemirror_mode": {
    "name": "ipython",
    "version": 3
   },
   "file_extension": ".py",
   "mimetype": "text/x-python",
   "name": "python",
   "nbconvert_exporter": "python",
   "pygments_lexer": "ipython3",
   "version": "3.6.13"
  },
  "orig_nbformat": 4
 },
 "nbformat": 4,
 "nbformat_minor": 2
}
